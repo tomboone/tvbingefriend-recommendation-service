{
 "cells": [
  {
   "cell_type": "code",
   "execution_count": 1,
   "id": "initial_id",
   "metadata": {
    "ExecuteTime": {
     "end_time": "2025-10-08T19:40:18.007890Z",
     "start_time": "2025-10-08T19:40:17.667126Z"
    },
    "collapsed": true
   },
   "outputs": [
    {
     "name": "stdout",
     "output_type": "stream",
     "text": [
      "✓ Imports successful\n"
     ]
    }
   ],
   "source": [
    "# Cell 1: Imports and Setup\n",
    "import sys\n",
    "from pathlib import Path\n",
    "\n",
    "# Add parent directory to path\n",
    "project_root = Path.cwd().parent if \"notebooks\" in str(Path.cwd()) else Path.cwd()\n",
    "sys.path.insert(0, str(project_root))\n",
    "\n",
    "import re\n",
    "\n",
    "import matplotlib.pyplot as plt\n",
    "import numpy as np\n",
    "import pandas as pd\n",
    "import seaborn as sns\n",
    "from sklearn.feature_extraction.text import TfidfVectorizer\n",
    "from sklearn.preprocessing import MultiLabelBinarizer\n",
    "\n",
    "from tvbingefriend_recommendation_service.services.data_loader_service import ShowDataLoader\n",
    "\n",
    "sns.set_style(\"whitegrid\")\n",
    "plt.rcParams[\"figure.figsize\"] = (12, 6)\n",
    "\n",
    "print(\"✓ Imports successful\")"
   ]
  },
  {
   "cell_type": "code",
   "execution_count": 2,
   "id": "5e39963c7c57cc31",
   "metadata": {
    "ExecuteTime": {
     "end_time": "2025-10-08T19:40:20.556989Z",
     "start_time": "2025-10-08T19:40:20.447484Z"
    }
   },
   "outputs": [
    {
     "name": "stdout",
     "output_type": "stream",
     "text": [
      "Fetching all shows...\n",
      "✓ Loaded 100 shows\n",
      "Columns: ['id', 'url', 'name', 'type', 'language', 'genres', 'status', 'runtime', 'averageRuntime', 'premiered', 'ended', 'officialSite', 'schedule', 'rating', 'weight', 'network', 'webchannel', 'dvdCountry', 'externals', 'image', 'summary', 'updated', '_links']\n"
     ]
    }
   ],
   "source": [
    "# Cell 2: Load data\n",
    "loader = ShowDataLoader()\n",
    "\n",
    "print(\"Fetching all shows...\")\n",
    "shows = loader.get_all_shows(batch_size=1000, max_shows=None)\n",
    "\n",
    "df = pd.DataFrame(shows)\n",
    "print(f\"✓ Loaded {len(df)} shows\")\n",
    "print(f\"Columns: {df.columns.tolist()}\")"
   ]
  },
  {
   "cell_type": "code",
   "execution_count": 3,
   "id": "9686c3efc86c2f91",
   "metadata": {
    "ExecuteTime": {
     "end_time": "2025-10-08T19:40:24.795266Z",
     "start_time": "2025-10-08T19:40:24.787203Z"
    }
   },
   "outputs": [
    {
     "name": "stdout",
     "output_type": "stream",
     "text": [
      "Cleaned DataFrame shape: (100, 9)\n",
      "\n",
      "Sample row:\n",
      "id                                                            1\n",
      "name                                             Under the Dome\n",
      "genres                       [Drama, Science-Fiction, Thriller]\n",
      "summary       <p><b>Under the Dome</b> is the story of a sma...\n",
      "type                                                   Scripted\n",
      "language                                                English\n",
      "status                                                    Ended\n",
      "platform                                                    CBS\n",
      "rating_avg                                                  6.5\n",
      "Name: 0, dtype: object\n"
     ]
    }
   ],
   "source": [
    "# Cell 3: Extract and clean fields\n",
    "\n",
    "# Extract rating\n",
    "df[\"rating_avg\"] = df[\"rating\"].apply(lambda x: x.get(\"average\") if isinstance(x, dict) else None)\n",
    "\n",
    "# Extract network/platform\n",
    "df[\"network_name\"] = df[\"network\"].apply(lambda x: x.get(\"name\") if isinstance(x, dict) else None)\n",
    "df[\"webchannel_name\"] = df[\"webchannel\"].apply(\n",
    "    lambda x: x.get(\"name\") if isinstance(x, dict) else None\n",
    ")\n",
    "df[\"platform\"] = df[\"network_name\"].fillna(df[\"webchannel_name\"])\n",
    "\n",
    "# Keep essential columns\n",
    "df_clean = df[\n",
    "    [\"id\", \"name\", \"genres\", \"summary\", \"type\", \"language\", \"status\", \"platform\", \"rating_avg\"]\n",
    "].copy()\n",
    "\n",
    "print(\"Cleaned DataFrame shape:\", df_clean.shape)\n",
    "print(\"\\nSample row:\")\n",
    "print(df_clean.iloc[0])"
   ]
  },
  {
   "cell_type": "code",
   "execution_count": 4,
   "id": "fda4b691651d30e8",
   "metadata": {
    "ExecuteTime": {
     "end_time": "2025-10-08T19:40:28.276517Z",
     "start_time": "2025-10-08T19:40:28.270120Z"
    }
   },
   "outputs": [
    {
     "name": "stdout",
     "output_type": "stream",
     "text": [
      "Example cleaned summary:\n",
      "\n",
      "Original:\n",
      "<p><b>Under the Dome</b> is the story of a small town that is suddenly and inexplicably sealed off from the rest of the world by an enormous transparent dome. The town's inhabitants must deal with sur\n",
      "\n",
      "Cleaned:\n",
      "Under the Dome is the story of a small town that is suddenly and inexplicably sealed off from the rest of the world by an enormous transparent dome. The town's inhabitants must deal with surviving the\n"
     ]
    }
   ],
   "source": [
    "# Cell 4: Text Preprocessing - Clean HTML from summaries\n",
    "\n",
    "\n",
    "def clean_html(text):\n",
    "    \"\"\"Remove HTML tags from text\"\"\"\n",
    "    if pd.isna(text):\n",
    "        return \"\"\n",
    "\n",
    "    # Remove HTML tags\n",
    "    text = re.sub(r\"<[^>]+>\", \"\", str(text))\n",
    "\n",
    "    # Remove extra whitespace\n",
    "    text = re.sub(r\"\\s+\", \" \", text)\n",
    "\n",
    "    return text.strip()\n",
    "\n",
    "\n",
    "# Clean summaries\n",
    "df_clean[\"summary_clean\"] = df_clean[\"summary\"].apply(clean_html)\n",
    "\n",
    "print(\"Example cleaned summary:\")\n",
    "print(\"\\nOriginal:\")\n",
    "print(df_clean.iloc[0][\"summary\"][:200])\n",
    "print(\"\\nCleaned:\")\n",
    "print(df_clean.iloc[0][\"summary_clean\"][:200])"
   ]
  },
  {
   "cell_type": "code",
   "execution_count": 5,
   "id": "6aa8fe1be7684f87",
   "metadata": {
    "ExecuteTime": {
     "end_time": "2025-10-08T19:40:32.348571Z",
     "start_time": "2025-10-08T19:40:32.341402Z"
    }
   },
   "outputs": [
    {
     "name": "stdout",
     "output_type": "stream",
     "text": [
      "==================================================\n",
      "GENRE FEATURES\n",
      "==================================================\n",
      "Genre feature matrix shape: (100, 20)\n",
      "Number of unique genres: 20\n",
      "\n",
      "Genres: ['Action', 'Adventure', 'Anime', 'Comedy', 'Crime', 'Drama', 'Espionage', 'Family', 'Fantasy', 'History', 'Horror', 'Legal', 'Medical', 'Music', 'Mystery', 'Romance', 'Science-Fiction', 'Supernatural', 'Thriller', 'Western']\n",
      "\n",
      "Example (first show 'Under the Dome'):\n",
      "Genres: ['Drama', 'Science-Fiction', 'Thriller']\n",
      "Encoded: [0 0 0 0 0 1 0 0 0 0 0 0 0 0 0 0 1 0 1 0]\n"
     ]
    }
   ],
   "source": [
    "# Cell 5: Genre Features - Multi-hot encoding\n",
    "\n",
    "print(\"=\" * 50)\n",
    "print(\"GENRE FEATURES\")\n",
    "print(\"=\" * 50)\n",
    "\n",
    "# Use MultiLabelBinarizer for multi-hot encoding\n",
    "mlb_genres = MultiLabelBinarizer()\n",
    "genre_features = mlb_genres.fit_transform(df_clean[\"genres\"])\n",
    "\n",
    "# Convert to DataFrame\n",
    "df_genre_features = pd.DataFrame(genre_features, columns=mlb_genres.classes_, index=df_clean.index)\n",
    "\n",
    "print(f\"Genre feature matrix shape: {df_genre_features.shape}\")\n",
    "print(f\"Number of unique genres: {len(mlb_genres.classes_)}\")\n",
    "print(f\"\\nGenres: {list(mlb_genres.classes_)}\")\n",
    "print(f\"\\nExample (first show '{df_clean.iloc[0]['name']}'):\")\n",
    "print(f\"Genres: {df_clean.iloc[0]['genres']}\")\n",
    "print(f\"Encoded: {df_genre_features.iloc[0].values}\")"
   ]
  },
  {
   "cell_type": "code",
   "execution_count": 6,
   "id": "609282cb387a658d",
   "metadata": {
    "ExecuteTime": {
     "end_time": "2025-10-08T19:40:36.301746Z",
     "start_time": "2025-10-08T19:40:36.280438Z"
    }
   },
   "outputs": [
    {
     "name": "stdout",
     "output_type": "stream",
     "text": [
      "==================================================\n",
      "TEXT FEATURES (TF-IDF)\n",
      "==================================================\n",
      "Text feature matrix shape: (100, 500)\n",
      "Number of terms: 500\n",
      "Matrix sparsity: 95.93%\n",
      "\n",
      "Sample terms (first 30): ['100', '13', 'ability', 'acclaimed', 'act', 'actions', 'actors', 'adventure', 'adventures', 'afraid', 'age', 'agent', 'agents', 'ago', 'al', 'alive', 'alucard', 'america', 'american', 'ancient', 'anime', 'answers', 'anthology', 'anti', 'apocalyptic', 'apparently', 'apply', 'appointed', 'apprentice', 'armed']\n"
     ]
    }
   ],
   "source": [
    "# Cell 6: Text Features - TF-IDF on summaries\n",
    "\n",
    "print(\"=\" * 50)\n",
    "print(\"TEXT FEATURES (TF-IDF)\")\n",
    "print(\"=\" * 50)\n",
    "\n",
    "# Initialize TF-IDF vectorizer\n",
    "tfidf = TfidfVectorizer(\n",
    "    max_features=500,  # Limit to top 500 terms\n",
    "    min_df=2,  # Term must appear in at least 2 documents\n",
    "    max_df=0.8,  # Term must appear in less than 80% of documents\n",
    "    stop_words=\"english\",\n",
    "    ngram_range=(1, 2),  # Unigrams and bigrams\n",
    "    strip_accents=\"unicode\",\n",
    ")\n",
    "\n",
    "# Fit and transform summaries\n",
    "text_features = tfidf.fit_transform(df_clean[\"summary_clean\"])\n",
    "\n",
    "print(f\"Text feature matrix shape: {text_features.shape}\")\n",
    "print(f\"Number of terms: {len(tfidf.get_feature_names_out())}\")\n",
    "print(\n",
    "    f\"Matrix sparsity: {(1 - text_features.nnz / (text_features.shape[0] * text_features.shape[1])) * 100:.2f}%\"\n",
    ")\n",
    "\n",
    "# Show top terms\n",
    "feature_names = tfidf.get_feature_names_out()\n",
    "print(f\"\\nSample terms (first 30): {list(feature_names[:30])}\")"
   ]
  },
  {
   "cell_type": "code",
   "execution_count": 7,
   "id": "9f3defce3f63cde4",
   "metadata": {
    "ExecuteTime": {
     "end_time": "2025-10-08T19:40:38.762685Z",
     "start_time": "2025-10-08T19:40:38.759153Z"
    }
   },
   "outputs": [
    {
     "name": "stdout",
     "output_type": "stream",
     "text": [
      "Top terms for 'Under the Dome':\n",
      "  town: 0.4482\n",
      "  sealed: 0.3233\n",
      "  apocalyptic: 0.3233\n",
      "  rest world: 0.3233\n",
      "  rest: 0.3027\n",
      "  answers: 0.3027\n",
      "  away: 0.2868\n",
      "  small town: 0.2868\n",
      "  small: 0.2531\n",
      "  story: 0.2081\n"
     ]
    }
   ],
   "source": [
    "# Cell 7: Examine TF-IDF results for a specific show\n",
    "\n",
    "show_idx = 0  # First show\n",
    "show_name = df_clean.iloc[show_idx][\"name\"]\n",
    "\n",
    "# Get TF-IDF scores for this show\n",
    "show_tfidf = text_features[show_idx].toarray()[0]\n",
    "\n",
    "# Get top terms\n",
    "top_term_indices = np.argsort(show_tfidf)[-10:][::-1]\n",
    "top_terms = [(feature_names[i], show_tfidf[i]) for i in top_term_indices if show_tfidf[i] > 0]\n",
    "\n",
    "print(f\"Top terms for '{show_name}':\")\n",
    "for term, score in top_terms:\n",
    "    print(f\"  {term}: {score:.4f}\")"
   ]
  },
  {
   "cell_type": "code",
   "execution_count": 8,
   "id": "52544c603040b7df",
   "metadata": {
    "ExecuteTime": {
     "end_time": "2025-10-08T19:40:41.987122Z",
     "start_time": "2025-10-08T19:40:41.975783Z"
    }
   },
   "outputs": [
    {
     "name": "stdout",
     "output_type": "stream",
     "text": [
      "==================================================\n",
      "PLATFORM FEATURES\n",
      "==================================================\n",
      "Total unique platforms: 26\n",
      "Using top 20 platforms\n",
      "\n",
      "Top platforms: ['ABC', 'CBS', 'NBC', 'FOX', 'The CW', 'FX', 'HBO', 'Syfy', 'Paramount+ with Showtime', 'TNT']...\n",
      "\n",
      "Platform feature matrix shape: (100, 21)\n"
     ]
    }
   ],
   "source": [
    "# Cell 8: Platform/Network Features - One-hot encoding\n",
    "\n",
    "print(\"=\" * 50)\n",
    "print(\"PLATFORM FEATURES\")\n",
    "print(\"=\" * 50)\n",
    "\n",
    "# Get top N platforms (to avoid too many features)\n",
    "TOP_N_PLATFORMS = 20\n",
    "\n",
    "platform_counts = df_clean[\"platform\"].value_counts()\n",
    "top_platforms = platform_counts.head(TOP_N_PLATFORMS).index.tolist()\n",
    "\n",
    "print(f\"Total unique platforms: {df_clean['platform'].nunique()}\")\n",
    "print(f\"Using top {TOP_N_PLATFORMS} platforms\")\n",
    "print(f\"\\nTop platforms: {top_platforms[:10]}...\")\n",
    "\n",
    "# Create binary features for top platforms\n",
    "df_platform_features = pd.DataFrame(index=df_clean.index)\n",
    "for platform in top_platforms:\n",
    "    df_platform_features[f\"platform_{platform}\"] = (df_clean[\"platform\"] == platform).astype(int)\n",
    "\n",
    "# Add \"other\" category\n",
    "df_platform_features[\"platform_other\"] = (~df_clean[\"platform\"].isin(top_platforms)).astype(int)\n",
    "\n",
    "print(f\"\\nPlatform feature matrix shape: {df_platform_features.shape}\")"
   ]
  },
  {
   "cell_type": "code",
   "execution_count": 9,
   "id": "88c9dc782dd11e57",
   "metadata": {
    "ExecuteTime": {
     "end_time": "2025-10-08T19:40:46.224907Z",
     "start_time": "2025-10-08T19:40:46.218002Z"
    }
   },
   "outputs": [
    {
     "name": "stdout",
     "output_type": "stream",
     "text": [
      "==================================================\n",
      "TYPE FEATURES\n",
      "==================================================\n",
      "Show types:\n",
      "type\n",
      "Scripted     89\n",
      "Animation     6\n",
      "Reality       5\n",
      "Name: count, dtype: int64\n",
      "\n",
      "Type feature matrix shape: (100, 3)\n",
      "Type columns: ['type_Animation', 'type_Reality', 'type_Scripted']\n"
     ]
    }
   ],
   "source": [
    "# Cell 9: Type Features - One-hot encoding\n",
    "\n",
    "print(\"=\" * 50)\n",
    "print(\"TYPE FEATURES\")\n",
    "print(\"=\" * 50)\n",
    "\n",
    "type_counts = df_clean[\"type\"].value_counts()\n",
    "print(\"Show types:\")\n",
    "print(type_counts)\n",
    "\n",
    "# One-hot encode type\n",
    "df_type_features = pd.get_dummies(df_clean[\"type\"], prefix=\"type\")\n",
    "\n",
    "print(f\"\\nType feature matrix shape: {df_type_features.shape}\")\n",
    "print(f\"Type columns: {df_type_features.columns.tolist()}\")"
   ]
  },
  {
   "cell_type": "code",
   "execution_count": 10,
   "id": "9416f6713994f8e7",
   "metadata": {
    "ExecuteTime": {
     "end_time": "2025-10-08T19:40:49.649914Z",
     "start_time": "2025-10-08T19:40:49.644367Z"
    }
   },
   "outputs": [
    {
     "name": "stdout",
     "output_type": "stream",
     "text": [
      "==================================================\n",
      "LANGUAGE FEATURES\n",
      "==================================================\n",
      "Total unique languages: 2\n",
      "Using top 5 languages: ['English', 'Japanese']\n",
      "\n",
      "Language feature matrix shape: (100, 3)\n"
     ]
    }
   ],
   "source": [
    "# Cell 10: Language Features - One-hot encoding (top languages only)\n",
    "\n",
    "print(\"=\" * 50)\n",
    "print(\"LANGUAGE FEATURES\")\n",
    "print(\"=\" * 50)\n",
    "\n",
    "TOP_N_LANGUAGES = 5\n",
    "\n",
    "language_counts = df_clean[\"language\"].value_counts()\n",
    "top_languages = language_counts.head(TOP_N_LANGUAGES).index.tolist()\n",
    "\n",
    "print(f\"Total unique languages: {df_clean['language'].nunique()}\")\n",
    "print(f\"Using top {TOP_N_LANGUAGES} languages: {top_languages}\")\n",
    "\n",
    "# Create binary features for top languages\n",
    "df_language_features = pd.DataFrame(index=df_clean.index)\n",
    "for language in top_languages:\n",
    "    df_language_features[f\"lang_{language}\"] = (df_clean[\"language\"] == language).astype(int)\n",
    "\n",
    "df_language_features[\"lang_other\"] = (~df_clean[\"language\"].isin(top_languages)).astype(int)\n",
    "\n",
    "print(f\"\\nLanguage feature matrix shape: {df_language_features.shape}\")"
   ]
  },
  {
   "cell_type": "code",
   "execution_count": 11,
   "id": "f33dec9848ada9ea",
   "metadata": {
    "ExecuteTime": {
     "end_time": "2025-10-08T19:40:52.922755Z",
     "start_time": "2025-10-08T19:40:52.918404Z"
    }
   },
   "outputs": [
    {
     "name": "stdout",
     "output_type": "stream",
     "text": [
      "==================================================\n",
      "FEATURE SUMMARY\n",
      "==================================================\n",
      "Feature group shapes:\n",
      "  Genre features: (100, 20)\n",
      "  Text features: (100, 500)\n",
      "  Platform features: (100, 21)\n",
      "  Type features: (100, 3)\n",
      "  Language features: (100, 3)\n",
      "\n",
      "Total features: 547\n"
     ]
    }
   ],
   "source": [
    "# Cell 11: Combine all features into feature groups\n",
    "\n",
    "print(\"=\" * 50)\n",
    "print(\"FEATURE SUMMARY\")\n",
    "print(\"=\" * 50)\n",
    "\n",
    "# Convert TF-IDF sparse matrix to dense for easier handling\n",
    "# (We'll keep it sparse in production for memory efficiency)\n",
    "text_features_dense = text_features.toarray()\n",
    "\n",
    "print(\"Feature group shapes:\")\n",
    "print(f\"  Genre features: {df_genre_features.shape}\")\n",
    "print(f\"  Text features: {text_features_dense.shape}\")\n",
    "print(f\"  Platform features: {df_platform_features.shape}\")\n",
    "print(f\"  Type features: {df_type_features.shape}\")\n",
    "print(f\"  Language features: {df_language_features.shape}\")\n",
    "\n",
    "total_features = (\n",
    "    df_genre_features.shape[1]\n",
    "    + text_features_dense.shape[1]\n",
    "    + df_platform_features.shape[1]\n",
    "    + df_type_features.shape[1]\n",
    "    + df_language_features.shape[1]\n",
    ")\n",
    "\n",
    "print(f\"\\nTotal features: {total_features}\")"
   ]
  },
  {
   "cell_type": "code",
   "execution_count": 12,
   "id": "37e5e953a26f7fcc",
   "metadata": {
    "ExecuteTime": {
     "end_time": "2025-10-08T19:40:56.101009Z",
     "start_time": "2025-10-08T19:40:56.097525Z"
    }
   },
   "outputs": [
    {
     "name": "stdout",
     "output_type": "stream",
     "text": [
      "Combined feature matrix shape: (100, 547)\n",
      "Shows: 100\n",
      "Features: 547\n"
     ]
    }
   ],
   "source": [
    "# Cell 12: Create combined feature matrix (for reference)\n",
    "\n",
    "# Combine all features\n",
    "combined_features = np.hstack(\n",
    "    [\n",
    "        df_genre_features.values,\n",
    "        text_features_dense,\n",
    "        df_platform_features.values,\n",
    "        df_type_features.values,\n",
    "        df_language_features.values,\n",
    "    ]\n",
    ")\n",
    "\n",
    "print(f\"Combined feature matrix shape: {combined_features.shape}\")\n",
    "print(f\"Shows: {combined_features.shape[0]}\")\n",
    "print(f\"Features: {combined_features.shape[1]}\")"
   ]
  },
  {
   "cell_type": "code",
   "execution_count": 14,
   "id": "7c848e3f6da6411f",
   "metadata": {
    "ExecuteTime": {
     "end_time": "2025-10-08T19:41:01.385362Z",
     "start_time": "2025-10-08T19:41:01.197163Z"
    }
   },
   "outputs": [
    {
     "data": {
      "image/png": "[encoded data removed]",
      "text/plain": [
       "<Figure size 1400x1000 with 4 Axes>"
      ]
     },
     "jetTransient": {
      "display_id": null
     },
     "metadata": {},
     "output_type": "display_data"
    }
   ],
   "source": [
    "# Cell 13: Visualize feature distributions\n",
    "\n",
    "fig, axes = plt.subplots(2, 2, figsize=(14, 10))\n",
    "\n",
    "# Genre distribution\n",
    "genre_sums = df_genre_features.sum().sort_values(ascending=False).head(15)\n",
    "axes[0, 0].barh(range(len(genre_sums)), genre_sums.values, color=\"steelblue\")\n",
    "axes[0, 0].set_yticks(range(len(genre_sums)))\n",
    "axes[0, 0].set_yticklabels(genre_sums.index)\n",
    "axes[0, 0].set_xlabel(\"Number of Shows\")\n",
    "axes[0, 0].set_title(\"Top 15 Genres\")\n",
    "axes[0, 0].invert_yaxis()\n",
    "\n",
    "# Platform distribution\n",
    "platform_sums = df_platform_features.sum().sort_values(ascending=False).head(15)\n",
    "axes[0, 1].barh(range(len(platform_sums)), platform_sums.values, color=\"coral\")\n",
    "axes[0, 1].set_yticks(range(len(platform_sums)))\n",
    "axes[0, 1].set_yticklabels([col.replace(\"platform_\", \"\") for col in platform_sums.index])\n",
    "axes[0, 1].set_xlabel(\"Number of Shows\")\n",
    "axes[0, 1].set_title(\"Top 15 Platforms\")\n",
    "axes[0, 1].invert_yaxis()\n",
    "\n",
    "# Type distribution\n",
    "type_sums = df_type_features.sum().sort_values(ascending=False)\n",
    "axes[1, 0].bar(range(len(type_sums)), type_sums.values, color=\"lightgreen\")\n",
    "axes[1, 0].set_xticks(range(len(type_sums)))\n",
    "axes[1, 0].set_xticklabels(\n",
    "    [col.replace(\"type_\", \"\") for col in type_sums.index], rotation=45, ha=\"right\"\n",
    ")\n",
    "axes[1, 0].set_ylabel(\"Number of Shows\")\n",
    "axes[1, 0].set_title(\"Show Types\")\n",
    "\n",
    "# Language distribution\n",
    "lang_sums = df_language_features.sum().sort_values(ascending=False)\n",
    "axes[1, 1].bar(range(len(lang_sums)), lang_sums.values, color=\"plum\")\n",
    "axes[1, 1].set_xticks(range(len(lang_sums)))\n",
    "axes[1, 1].set_xticklabels(\n",
    "    [col.replace(\"lang_\", \"\") for col in lang_sums.index], rotation=45, ha=\"right\"\n",
    ")\n",
    "axes[1, 1].set_ylabel(\"Number of Shows\")\n",
    "axes[1, 1].set_title(\"Languages\")\n",
    "\n",
    "plt.tight_layout()\n",
    "plt.show()"
   ]
  },
  {
   "cell_type": "code",
   "execution_count": 15,
   "id": "ff5e3a1aa97030f4",
   "metadata": {
    "ExecuteTime": {
     "end_time": "2025-10-08T19:41:05.943461Z",
     "start_time": "2025-10-08T19:41:05.927077Z"
    }
   },
   "outputs": [
    {
     "name": "stdout",
     "output_type": "stream",
     "text": [
      "==================================================\n",
      "SAVING FEATURES\n",
      "==================================================\n",
      "✓ Saved metadata: /Users/trb74/projects/tvbingefriend/tvbingefriend-recommendation-service/data/processed/shows_metadata.csv\n",
      "✓ Saved genre features\n",
      "✓ Saved text features\n",
      "✓ Saved platform features\n",
      "✓ Saved type features\n",
      "✓ Saved language features\n",
      "✓ Saved TF-IDF vectorizer\n",
      "✓ Saved genre encoder\n",
      "\n",
      "✓ All features saved successfully!\n"
     ]
    }
   ],
   "source": [
    "# Cell 14: Save feature data for next notebook\n",
    "\n",
    "print(\"=\" * 50)\n",
    "print(\"SAVING FEATURES\")\n",
    "print(\"=\" * 50)\n",
    "\n",
    "# Create processed data directory\n",
    "processed_dir = project_root / \"data\" / \"processed\"\n",
    "processed_dir.mkdir(parents=True, exist_ok=True)\n",
    "\n",
    "# Save show metadata\n",
    "df_clean.to_csv(processed_dir / \"shows_metadata.csv\", index=False)\n",
    "print(f\"✓ Saved metadata: {processed_dir / 'shows_metadata.csv'}\")\n",
    "\n",
    "# Save feature matrices\n",
    "np.save(processed_dir / \"genre_features.npy\", df_genre_features.values)\n",
    "print(\"✓ Saved genre features\")\n",
    "\n",
    "# Save text features as sparse matrix (more efficient)\n",
    "from scipy.sparse import save_npz\n",
    "\n",
    "save_npz(processed_dir / \"text_features.npz\", text_features)\n",
    "print(\"✓ Saved text features\")\n",
    "\n",
    "np.save(processed_dir / \"platform_features.npy\", df_platform_features.values)\n",
    "print(\"✓ Saved platform features\")\n",
    "\n",
    "np.save(processed_dir / \"type_features.npy\", df_type_features.values)\n",
    "print(\"✓ Saved type features\")\n",
    "\n",
    "np.save(processed_dir / \"language_features.npy\", df_language_features.values)\n",
    "print(\"✓ Saved language features\")\n",
    "\n",
    "# Save the TF-IDF vectorizer and genre encoder for later use\n",
    "import pickle\n",
    "\n",
    "with open(processed_dir / \"tfidf_vectorizer.pkl\", \"wb\") as f:\n",
    "    pickle.dump(tfidf, f)\n",
    "print(\"✓ Saved TF-IDF vectorizer\")\n",
    "\n",
    "with open(processed_dir / \"genre_encoder.pkl\", \"wb\") as f:\n",
    "    pickle.dump(mlb_genres, f)\n",
    "print(\"✓ Saved genre encoder\")\n",
    "\n",
    "print(\"\\n✓ All features saved successfully!\")"
   ]
  },
  {
   "cell_type": "code",
   "execution_count": 16,
   "id": "83b9e9f98619491b",
   "metadata": {
    "ExecuteTime": {
     "end_time": "2025-10-08T19:41:13.698984Z",
     "start_time": "2025-10-08T19:41:13.695643Z"
    }
   },
   "outputs": [
    {
     "name": "stdout",
     "output_type": "stream",
     "text": [
      "==================================================\n",
      "FEATURE ENGINEERING COMPLETE\n",
      "==================================================\n",
      "\n",
      "Processed 100 shows\n",
      "Total feature dimensions: 547\n",
      "\n",
      "Feature breakdown:\n",
      "  - Genre features: 20 dimensions\n",
      "  - Text features: 500 dimensions\n",
      "  - Platform features: 21 dimensions\n",
      "  - Type features: 3 dimensions\n",
      "  - Language features: 3 dimensions\n",
      "\n",
      "Next steps:\n",
      "1. Compute content-based similarity (notebook 03)\n",
      "2. Experiment with different feature weights\n",
      "3. Evaluate recommendation quality\n"
     ]
    }
   ],
   "source": [
    "# Cell 15: Summary\n",
    "\n",
    "print(\"=\" * 50)\n",
    "print(\"FEATURE ENGINEERING COMPLETE\")\n",
    "print(\"=\" * 50)\n",
    "\n",
    "print(f\"\\nProcessed {len(df_clean)} shows\")\n",
    "print(f\"Total feature dimensions: {combined_features.shape[1]}\")\n",
    "print(\"\\nFeature breakdown:\")\n",
    "print(f\"  - Genre features: {df_genre_features.shape[1]} dimensions\")\n",
    "print(f\"  - Text features: {text_features_dense.shape[1]} dimensions\")\n",
    "print(f\"  - Platform features: {df_platform_features.shape[1]} dimensions\")\n",
    "print(f\"  - Type features: {df_type_features.shape[1]} dimensions\")\n",
    "print(f\"  - Language features: {df_language_features.shape[1]} dimensions\")\n",
    "\n",
    "print(\"\\nNext steps:\")\n",
    "print(\"1. Compute content-based similarity (notebook 03)\")\n",
    "print(\"2. Experiment with different feature weights\")\n",
    "print(\"3. Evaluate recommendation quality\")"
   ]
  }
 ],
 "metadata": {
  "kernelspec": {
   "display_name": "Python 3",
   "language": "python",
   "name": "python3"
  },
  "language_info": {
   "codemirror_mode": {
    "name": "ipython",
    "version": 2
   },
   "file_extension": ".py",
   "mimetype": "text/x-python",
   "name": "python",
   "nbconvert_exporter": "python",
   "pygments_lexer": "ipython2",
   "version": "2.7.6"
  }
 },
 "nbformat": 4,
 "nbformat_minor": 5
}
