{
 "cells": [
  {
   "cell_type": "code",
   "id": "initial_id",
   "metadata": {
    "collapsed": true,
    "ExecuteTime": {
     "end_time": "2025-10-08T19:55:04.147777Z",
     "start_time": "2025-10-08T19:55:03.915892Z"
    }
   },
   "source": [
    "# Cell 1: Imports and Setup\n",
    "import sys\n",
    "from pathlib import Path\n",
    "\n",
    "project_root = Path.cwd().parent if 'notebooks' in str(Path.cwd()) else Path.cwd()\n",
    "sys.path.insert(0, str(project_root))\n",
    "\n",
    "import pandas as pd\n",
    "import numpy as np\n",
    "from sklearn.metrics.pairwise import cosine_similarity\n",
    "from scipy.sparse import load_npz\n",
    "import pickle\n",
    "\n",
    "import matplotlib.pyplot as plt\n",
    "import seaborn as sns\n",
    "\n",
    "sns.set_style(\"whitegrid\")\n",
    "plt.rcParams['figure.figsize'] = (12, 6)\n",
    "\n",
    "print(\"✓ Imports successful\")"
   ],
   "outputs": [
    {
     "name": "stdout",
     "output_type": "stream",
     "text": [
      "✓ Imports successful\n"
     ]
    }
   ],
   "execution_count": 1
  },
  {
   "metadata": {
    "ExecuteTime": {
     "end_time": "2025-10-08T19:55:08.123409Z",
     "start_time": "2025-10-08T19:55:08.108120Z"
    }
   },
   "cell_type": "code",
   "source": [
    "# Cell 2: Load saved features\n",
    "\n",
    "processed_dir = project_root / 'data' / 'processed'\n",
    "\n",
    "# Load metadata\n",
    "df_shows = pd.read_csv(processed_dir / 'shows_metadata.csv')\n",
    "print(f\"Loaded {len(df_shows)} shows\")\n",
    "\n",
    "# Load feature matrices\n",
    "genre_features = np.load(processed_dir / 'genre_features.npy')\n",
    "text_features = load_npz(processed_dir / 'text_features.npz')\n",
    "platform_features = np.load(processed_dir / 'platform_features.npy')\n",
    "type_features = np.load(processed_dir / 'type_features.npy')\n",
    "language_features = np.load(processed_dir / 'language_features.npy')\n",
    "\n",
    "print(\"\\nFeature shapes:\")\n",
    "print(f\"  Genre: {genre_features.shape}\")\n",
    "print(f\"  Text: {text_features.shape}\")\n",
    "print(f\"  Platform: {platform_features.shape}\")\n",
    "print(f\"  Type: {type_features.shape}\")\n",
    "print(f\"  Language: {language_features.shape}\")"
   ],
   "id": "4ebbab4ec2a71a48",
   "outputs": [
    {
     "name": "stdout",
     "output_type": "stream",
     "text": [
      "Loaded 100 shows\n",
      "\n",
      "Feature shapes:\n",
      "  Genre: (100, 20)\n",
      "  Text: (100, 500)\n",
      "  Platform: (100, 21)\n",
      "  Type: (100, 3)\n",
      "  Language: (100, 3)\n"
     ]
    }
   ],
   "execution_count": 2
  },
  {
   "metadata": {
    "ExecuteTime": {
     "end_time": "2025-10-08T19:55:11.015253Z",
     "start_time": "2025-10-08T19:55:11.007140Z"
    }
   },
   "cell_type": "code",
   "source": [
    "# Cell 3: Compute Genre Similarity (Jaccard-based)\n",
    "\n",
    "print(\"=\"*50)\n",
    "print(\"COMPUTING GENRE SIMILARITY\")\n",
    "print(\"=\"*50)\n",
    "\n",
    "# Cosine similarity works well for multi-hot encoded genres\n",
    "# (equivalent to Jaccard for binary features when normalized)\n",
    "genre_similarity = cosine_similarity(genre_features)\n",
    "\n",
    "print(f\"Genre similarity matrix shape: {genre_similarity.shape}\")\n",
    "print(f\"Similarity range: [{genre_similarity.min():.3f}, {genre_similarity.max():.3f}]\")\n",
    "\n",
    "# Example: Find shows similar to first show by genre\n",
    "show_idx = 0\n",
    "show_name = df_shows.iloc[show_idx]['name']\n",
    "show_genres = df_shows.iloc[show_idx]['genres']\n",
    "\n",
    "# Get top 10 most similar shows\n",
    "similar_indices = np.argsort(genre_similarity[show_idx])[::-1][1:11]  # Exclude self\n",
    "\n",
    "print(f\"\\nTop 10 shows similar to '{show_name}' by genre:\")\n",
    "print(f\"Original genres: {show_genres}\")\n",
    "for i, idx in enumerate(similar_indices, 1):\n",
    "    sim_score = genre_similarity[show_idx, idx]\n",
    "    sim_name = df_shows.iloc[idx]['name']\n",
    "    sim_genres = df_shows.iloc[idx]['genres']\n",
    "    print(f\"{i}. {sim_name} (score: {sim_score:.3f})\")\n",
    "    print(f\"   Genres: {sim_genres}\")"
   ],
   "id": "639dc9ef8045394",
   "outputs": [
    {
     "name": "stdout",
     "output_type": "stream",
     "text": [
      "==================================================\n",
      "COMPUTING GENRE SIMILARITY\n",
      "==================================================\n",
      "Genre similarity matrix shape: (100, 100)\n",
      "Similarity range: [0.000, 1.000]\n",
      "\n",
      "Top 10 shows similar to 'Under the Dome' by genre:\n",
      "Original genres: ['Drama', 'Science-Fiction', 'Thriller']\n",
      "1. The Lottery (score: 1.000)\n",
      "   Genres: ['Drama', 'Science-Fiction', 'Thriller']\n",
      "2. Orphan Black (score: 1.000)\n",
      "   Genres: ['Drama', 'Science-Fiction', 'Thriller']\n",
      "3. Utopia (score: 1.000)\n",
      "   Genres: ['Drama', 'Science-Fiction', 'Thriller']\n",
      "4. Scandal (score: 0.816)\n",
      "   Genres: ['Drama', 'Thriller']\n",
      "5. Homeland (score: 0.667)\n",
      "   Genres: ['Drama', 'Thriller', 'Espionage']\n",
      "6. Arrow (score: 0.667)\n",
      "   Genres: ['Drama', 'Action', 'Science-Fiction']\n",
      "7. Legends (score: 0.667)\n",
      "   Genres: ['Drama', 'Crime', 'Thriller']\n",
      "8. True Detective (score: 0.667)\n",
      "   Genres: ['Drama', 'Crime', 'Thriller']\n",
      "9. Scorpion (score: 0.667)\n",
      "   Genres: ['Drama', 'Action', 'Thriller']\n",
      "10. Resurrection (score: 0.667)\n",
      "   Genres: ['Drama', 'Science-Fiction', 'Mystery']\n"
     ]
    }
   ],
   "execution_count": 3
  },
  {
   "metadata": {
    "ExecuteTime": {
     "end_time": "2025-10-08T19:55:19.002153Z",
     "start_time": "2025-10-08T19:55:18.994792Z"
    }
   },
   "cell_type": "code",
   "source": [
    "# Cell 4: Compute Text Similarity (Cosine on TF-IDF)\n",
    "\n",
    "print(\"=\"*50)\n",
    "print(\"COMPUTING TEXT SIMILARITY\")\n",
    "print(\"=\"*50)\n",
    "\n",
    "# Cosine similarity on TF-IDF vectors\n",
    "text_similarity = cosine_similarity(text_features)\n",
    "\n",
    "print(f\"Text similarity matrix shape: {text_similarity.shape}\")\n",
    "print(f\"Similarity range: [{text_similarity.min():.3f}, {text_similarity.max():.3f}]\")\n",
    "\n",
    "# Example: Find shows similar to first show by text\n",
    "show_idx = 0\n",
    "show_name = df_shows.iloc[show_idx]['name']\n",
    "show_summary = df_shows.iloc[show_idx]['summary_clean'][:200]\n",
    "\n",
    "similar_indices = np.argsort(text_similarity[show_idx])[::-1][1:11]\n",
    "\n",
    "print(f\"\\nTop 10 shows similar to '{show_name}' by text:\")\n",
    "print(f\"Summary preview: {show_summary}...\")\n",
    "print()\n",
    "for i, idx in enumerate(similar_indices, 1):\n",
    "    sim_score = text_similarity[show_idx, idx]\n",
    "    sim_name = df_shows.iloc[idx]['name']\n",
    "    print(f\"{i}. {sim_name} (score: {sim_score:.3f})\")"
   ],
   "id": "f96051d16996f5a8",
   "outputs": [
    {
     "name": "stdout",
     "output_type": "stream",
     "text": [
      "==================================================\n",
      "COMPUTING TEXT SIMILARITY\n",
      "==================================================\n",
      "Text similarity matrix shape: (100, 100)\n",
      "Similarity range: [0.000, 1.000]\n",
      "\n",
      "Top 10 shows similar to 'Under the Dome' by text:\n",
      "Summary preview: Under the Dome is the story of a small town that is suddenly and inexplicably sealed off from the rest of the world by an enormous transparent dome. The town's inhabitants must deal with surviving the...\n",
      "\n",
      "1. Hemlock Grove (score: 0.307)\n",
      "2. Haven (score: 0.307)\n",
      "3. Witches of East End (score: 0.189)\n",
      "4. True Blood (score: 0.158)\n",
      "5. Sleepy Hollow (score: 0.144)\n",
      "6. Resurrection (score: 0.142)\n",
      "7. The Simpsons (score: 0.124)\n",
      "8. Bitten (score: 0.118)\n",
      "9. Falling Skies (score: 0.111)\n",
      "10. Vikings (score: 0.101)\n"
     ]
    }
   ],
   "execution_count": 4
  },
  {
   "metadata": {
    "ExecuteTime": {
     "end_time": "2025-10-08T19:55:22.291477Z",
     "start_time": "2025-10-08T19:55:22.286958Z"
    }
   },
   "cell_type": "code",
   "source": [
    "# Cell 5: Compute Metadata Similarity (Platform + Type + Language)\n",
    "\n",
    "print(\"=\"*50)\n",
    "print(\"COMPUTING METADATA SIMILARITY\")\n",
    "print(\"=\"*50)\n",
    "\n",
    "# Combine platform, type, and language features\n",
    "metadata_features = np.hstack([\n",
    "    platform_features,\n",
    "    type_features,\n",
    "    language_features\n",
    "])\n",
    "\n",
    "metadata_similarity = cosine_similarity(metadata_features)\n",
    "\n",
    "print(f\"Metadata similarity matrix shape: {metadata_similarity.shape}\")\n",
    "print(f\"Similarity range: [{metadata_similarity.min():.3f}, {metadata_similarity.max():.3f}]\")"
   ],
   "id": "a1c6ef36f315ec41",
   "outputs": [
    {
     "name": "stdout",
     "output_type": "stream",
     "text": [
      "==================================================\n",
      "COMPUTING METADATA SIMILARITY\n",
      "==================================================\n",
      "Metadata similarity matrix shape: (100, 100)\n",
      "Similarity range: [0.000, 1.000]\n"
     ]
    }
   ],
   "execution_count": 5
  },
  {
   "metadata": {
    "ExecuteTime": {
     "end_time": "2025-10-08T19:55:25.802613Z",
     "start_time": "2025-10-08T19:55:25.797219Z"
    }
   },
   "cell_type": "code",
   "source": [
    "# Cell 6: Combine similarities with different weights\n",
    "\n",
    "print(\"=\"*50)\n",
    "print(\"COMPUTING HYBRID SIMILARITY\")\n",
    "print(\"=\"*50)\n",
    "\n",
    "# Experiment with different weighting schemes\n",
    "def compute_hybrid_similarity(genre_weight, text_weight, metadata_weight):\n",
    "    \"\"\"Compute weighted combination of similarities\"\"\"\n",
    "\n",
    "    # Normalize weights\n",
    "    total = genre_weight + text_weight + metadata_weight\n",
    "    genre_w = genre_weight / total\n",
    "    text_w = text_weight / total\n",
    "    metadata_w = metadata_weight / total\n",
    "\n",
    "    hybrid_sim = (\n",
    "        genre_w * genre_similarity +\n",
    "        text_w * text_similarity +\n",
    "        metadata_w * metadata_similarity\n",
    "    )\n",
    "\n",
    "    return hybrid_sim\n",
    "\n",
    "# Try different weighting schemes\n",
    "weighting_schemes = {\n",
    "    \"Balanced\": (1, 1, 1),\n",
    "    \"Text-Heavy\": (0.3, 0.6, 0.1),\n",
    "    \"Genre-Heavy\": (0.6, 0.3, 0.1),\n",
    "    \"Text+Genre\": (0.4, 0.5, 0.1),\n",
    "    \"No Metadata\": (0.5, 0.5, 0.0),\n",
    "}\n",
    "\n",
    "# Compute similarities for each scheme\n",
    "hybrid_similarities = {}\n",
    "for scheme_name, (g, t, m) in weighting_schemes.items():\n",
    "    hybrid_similarities[scheme_name] = compute_hybrid_similarity(g, t, m)\n",
    "    print(f\"{scheme_name:15} (G:{g}, T:{t}, M:{m})\")\n",
    "\n",
    "print(\"\\n✓ Computed hybrid similarities for all schemes\")"
   ],
   "id": "a6f2d466b2c6b2b4",
   "outputs": [
    {
     "name": "stdout",
     "output_type": "stream",
     "text": [
      "==================================================\n",
      "COMPUTING HYBRID SIMILARITY\n",
      "==================================================\n",
      "Balanced        (G:1, T:1, M:1)\n",
      "Text-Heavy      (G:0.3, T:0.6, M:0.1)\n",
      "Genre-Heavy     (G:0.6, T:0.3, M:0.1)\n",
      "Text+Genre      (G:0.4, T:0.5, M:0.1)\n",
      "No Metadata     (G:0.5, T:0.5, M:0.0)\n",
      "\n",
      "✓ Computed hybrid similarities for all schemes\n"
     ]
    }
   ],
   "execution_count": 6
  },
  {
   "metadata": {
    "ExecuteTime": {
     "end_time": "2025-10-08T19:55:30.922623Z",
     "start_time": "2025-10-08T19:55:30.915969Z"
    }
   },
   "cell_type": "code",
   "source": [
    "# Cell 7: Compare weighting schemes for a specific show\n",
    "\n",
    "show_idx = 0  # Change this to test different shows\n",
    "show_name = df_shows.iloc[show_idx]['name']\n",
    "show_genres = df_shows.iloc[show_idx]['genres']\n",
    "\n",
    "print(\"=\"*50)\n",
    "print(f\"COMPARING RECOMMENDATIONS FOR: {show_name}\")\n",
    "print(\"=\"*50)\n",
    "print(f\"Genres: {show_genres}\\n\")\n",
    "\n",
    "for scheme_name, similarity_matrix in hybrid_similarities.items():\n",
    "    print(f\"\\n{scheme_name} scheme:\")\n",
    "    print(\"-\" * 40)\n",
    "\n",
    "    # Get top 5 similar shows\n",
    "    similar_indices = np.argsort(similarity_matrix[show_idx])[::-1][1:6]\n",
    "\n",
    "    for i, idx in enumerate(similar_indices, 1):\n",
    "        sim_score = similarity_matrix[show_idx, idx]\n",
    "        sim_name = df_shows.iloc[idx]['name']\n",
    "        sim_genres = df_shows.iloc[idx]['genres']\n",
    "        print(f\"{i}. {sim_name} ({sim_score:.3f}) - {sim_genres}\")"
   ],
   "id": "bcb04f9cc24aa20a",
   "outputs": [
    {
     "name": "stdout",
     "output_type": "stream",
     "text": [
      "==================================================\n",
      "COMPARING RECOMMENDATIONS FOR: Under the Dome\n",
      "==================================================\n",
      "Genres: ['Drama', 'Science-Fiction', 'Thriller']\n",
      "\n",
      "\n",
      "Balanced scheme:\n",
      "----------------------------------------\n",
      "1. Utopia (0.583) - ['Drama', 'Science-Fiction', 'Thriller']\n",
      "2. Orphan Black (0.573) - ['Drama', 'Science-Fiction', 'Thriller']\n",
      "3. Scorpion (0.570) - ['Drama', 'Action', 'Thriller']\n",
      "4. The Lottery (0.562) - ['Drama', 'Science-Fiction', 'Thriller']\n",
      "5. Hemlock Grove (0.547) - ['Drama', 'Horror', 'Thriller']\n",
      "\n",
      "Text-Heavy scheme:\n",
      "----------------------------------------\n",
      "1. Hemlock Grove (0.451) - ['Drama', 'Horror', 'Thriller']\n",
      "2. Utopia (0.416) - ['Drama', 'Science-Fiction', 'Thriller']\n",
      "3. Orphan Black (0.399) - ['Drama', 'Science-Fiction', 'Thriller']\n",
      "4. The Lottery (0.378) - ['Drama', 'Science-Fiction', 'Thriller']\n",
      "5. Resurrection (0.352) - ['Drama', 'Science-Fiction', 'Mystery']\n",
      "\n",
      "Genre-Heavy scheme:\n",
      "----------------------------------------\n",
      "1. Utopia (0.691) - ['Drama', 'Science-Fiction', 'Thriller']\n",
      "2. Orphan Black (0.683) - ['Drama', 'Science-Fiction', 'Thriller']\n",
      "3. The Lottery (0.673) - ['Drama', 'Science-Fiction', 'Thriller']\n",
      "4. Hemlock Grove (0.559) - ['Drama', 'Horror', 'Thriller']\n",
      "5. Scandal (0.557) - ['Drama', 'Thriller']\n",
      "\n",
      "Text+Genre scheme:\n",
      "----------------------------------------\n",
      "1. Utopia (0.507) - ['Drama', 'Science-Fiction', 'Thriller']\n",
      "2. Orphan Black (0.493) - ['Drama', 'Science-Fiction', 'Thriller']\n",
      "3. Hemlock Grove (0.487) - ['Drama', 'Horror', 'Thriller']\n",
      "4. The Lottery (0.477) - ['Drama', 'Science-Fiction', 'Thriller']\n",
      "5. Resurrection (0.405) - ['Drama', 'Science-Fiction', 'Mystery']\n",
      "\n",
      "No Metadata scheme:\n",
      "----------------------------------------\n",
      "1. Utopia (0.541) - ['Drama', 'Science-Fiction', 'Thriller']\n",
      "2. Orphan Black (0.527) - ['Drama', 'Science-Fiction', 'Thriller']\n",
      "3. The Lottery (0.510) - ['Drama', 'Science-Fiction', 'Thriller']\n",
      "4. Hemlock Grove (0.487) - ['Drama', 'Horror', 'Thriller']\n",
      "5. Scandal (0.408) - ['Drama', 'Thriller']\n"
     ]
    }
   ],
   "execution_count": 7
  },
  {
   "metadata": {
    "ExecuteTime": {
     "end_time": "2025-10-08T19:55:39.753291Z",
     "start_time": "2025-10-08T19:55:39.299720Z"
    }
   },
   "cell_type": "code",
   "source": [
    "# Cell 8: Visualize similarity distributions\n",
    "\n",
    "fig, axes = plt.subplots(2, 3, figsize=(16, 10))\n",
    "axes = axes.flatten()\n",
    "\n",
    "similarity_matrices = [\n",
    "    (\"Genre\", genre_similarity),\n",
    "    (\"Text\", text_similarity),\n",
    "    (\"Metadata\", metadata_similarity),\n",
    "    (\"Balanced\", hybrid_similarities[\"Balanced\"]),\n",
    "    (\"Text-Heavy\", hybrid_similarities[\"Text-Heavy\"]),\n",
    "    (\"Genre-Heavy\", hybrid_similarities[\"Genre-Heavy\"])\n",
    "]\n",
    "\n",
    "for idx, (name, sim_matrix) in enumerate(similarity_matrices):\n",
    "    # Get upper triangle (exclude diagonal and duplicates)\n",
    "    upper_triangle = sim_matrix[np.triu_indices_from(sim_matrix, k=1)]\n",
    "\n",
    "    axes[idx].hist(upper_triangle, bins=50, color='steelblue', edgecolor='black', alpha=0.7)\n",
    "    axes[idx].set_xlabel('Similarity Score')\n",
    "    axes[idx].set_ylabel('Frequency')\n",
    "    axes[idx].set_title(f'{name} Similarity Distribution')\n",
    "    axes[idx].axvline(upper_triangle.mean(), color='red', linestyle='--',\n",
    "                      label=f'Mean: {upper_triangle.mean():.3f}')\n",
    "    axes[idx].legend()\n",
    "\n",
    "plt.tight_layout()\n",
    "plt.show()"
   ],
   "id": "da64dfd17f604c49",
   "outputs": [
    {
     "data": {
      "text/plain": [
       "<Figure size 1600x1000 with 6 Axes>"
      ],
      "image/png": "[encoded data removed]"
     },
     "metadata": {},
     "output_type": "display_data",
     "jetTransient": {
      "display_id": null
     }
    }
   ],
   "execution_count": 8
  },
  {
   "metadata": {
    "ExecuteTime": {
     "end_time": "2025-10-08T19:55:43.740759Z",
     "start_time": "2025-10-08T19:55:43.734911Z"
    }
   },
   "cell_type": "code",
   "source": [
    "# Cell 9: Analyze similarity statistics\n",
    "\n",
    "print(\"=\"*50)\n",
    "print(\"SIMILARITY STATISTICS\")\n",
    "print(\"=\"*50)\n",
    "\n",
    "for name, sim_matrix in similarity_matrices:\n",
    "    # Get upper triangle (exclude diagonal)\n",
    "    upper_triangle = sim_matrix[np.triu_indices_from(sim_matrix, k=1)]\n",
    "\n",
    "    print(f\"\\n{name} Similarity:\")\n",
    "    print(f\"  Mean: {upper_triangle.mean():.4f}\")\n",
    "    print(f\"  Std:  {upper_triangle.std():.4f}\")\n",
    "    print(f\"  Min:  {upper_triangle.min():.4f}\")\n",
    "    print(f\"  Max:  {upper_triangle.max():.4f}\")\n",
    "    print(f\"  Median: {np.median(upper_triangle):.4f}\")"
   ],
   "id": "935098c1ec1ca0fc",
   "outputs": [
    {
     "name": "stdout",
     "output_type": "stream",
     "text": [
      "==================================================\n",
      "SIMILARITY STATISTICS\n",
      "==================================================\n",
      "\n",
      "Genre Similarity:\n",
      "  Mean: 0.2861\n",
      "  Std:  0.2744\n",
      "  Min:  0.0000\n",
      "  Max:  1.0000\n",
      "  Median: 0.3333\n",
      "\n",
      "Text Similarity:\n",
      "  Mean: 0.0381\n",
      "  Std:  0.0517\n",
      "  Min:  0.0000\n",
      "  Max:  0.6060\n",
      "  Median: 0.0216\n",
      "\n",
      "Metadata Similarity:\n",
      "  Mean: 0.5987\n",
      "  Std:  0.2217\n",
      "  Min:  0.0000\n",
      "  Max:  1.0000\n",
      "  Median: 0.6667\n",
      "\n",
      "Balanced Similarity:\n",
      "  Mean: 0.3076\n",
      "  Std:  0.1376\n",
      "  Min:  0.0000\n",
      "  Max:  0.7940\n",
      "  Median: 0.3333\n",
      "\n",
      "Text-Heavy Similarity:\n",
      "  Mean: 0.1686\n",
      "  Std:  0.1019\n",
      "  Min:  0.0000\n",
      "  Max:  0.6292\n",
      "  Median: 0.1667\n",
      "\n",
      "Genre-Heavy Similarity:\n",
      "  Mean: 0.2429\n",
      "  Std:  0.1760\n",
      "  Min:  0.0000\n",
      "  Max:  0.8146\n",
      "  Median: 0.2667\n"
     ]
    }
   ],
   "execution_count": 9
  },
  {
   "metadata": {
    "ExecuteTime": {
     "end_time": "2025-10-08T19:55:48.436203Z",
     "start_time": "2025-10-08T19:55:48.427349Z"
    }
   },
   "cell_type": "code",
   "source": [
    "# Cell 10: Generate recommendations function\n",
    "\n",
    "def get_recommendations(show_id, similarity_matrix, n=10, min_similarity=0.0):\n",
    "    \"\"\"\n",
    "    Get top N recommendations for a show\n",
    "\n",
    "    Args:\n",
    "        show_id: ID of the show\n",
    "        similarity_matrix: Similarity matrix to use\n",
    "        n: Number of recommendations\n",
    "        min_similarity: Minimum similarity threshold\n",
    "\n",
    "    Returns:\n",
    "        DataFrame with recommendations\n",
    "    \"\"\"\n",
    "    # Find show index\n",
    "    show_idx = df_shows[df_shows['id'] == show_id].index[0]\n",
    "\n",
    "    # Get similarity scores\n",
    "    sim_scores = similarity_matrix[show_idx]\n",
    "\n",
    "    # Get indices of most similar shows (excluding self)\n",
    "    similar_indices = np.argsort(sim_scores)[::-1][1:]\n",
    "\n",
    "    # Filter by minimum similarity\n",
    "    similar_indices = [idx for idx in similar_indices if sim_scores[idx] >= min_similarity]\n",
    "\n",
    "    # Take top N\n",
    "    similar_indices = similar_indices[:n]\n",
    "\n",
    "    # Create recommendations dataframe\n",
    "    recommendations = []\n",
    "    for idx in similar_indices:\n",
    "        recommendations.append({\n",
    "            'show_id': df_shows.iloc[idx]['id'],\n",
    "            'name': df_shows.iloc[idx]['name'],\n",
    "            'genres': df_shows.iloc[idx]['genres'],\n",
    "            'rating': df_shows.iloc[idx]['rating_avg'],\n",
    "            'similarity_score': sim_scores[idx]\n",
    "        })\n",
    "\n",
    "    return pd.DataFrame(recommendations)\n",
    "\n",
    "# Test the function\n",
    "test_show_id = df_shows.iloc[0]['id']\n",
    "test_show_name = df_shows.iloc[0]['name']\n",
    "\n",
    "print(f\"Recommendations for: {test_show_name} (ID: {test_show_id})\")\n",
    "print(\"=\"*70)\n",
    "\n",
    "recs = get_recommendations(test_show_id, hybrid_similarities[\"Text+Genre\"], n=10)\n",
    "print(recs.to_string(index=False))"
   ],
   "id": "730495b4cffe32d7",
   "outputs": [
    {
     "name": "stdout",
     "output_type": "stream",
     "text": [
      "Recommendations for: Under the Dome (ID: 1)\n",
      "======================================================================\n",
      " show_id                        name                                   genres  rating  similarity_score\n",
      "      64                      Utopia ['Drama', 'Science-Fiction', 'Thriller']     8.3          0.507369\n",
      "      61                Orphan Black ['Drama', 'Science-Fiction', 'Thriller']     8.6          0.493425\n",
      "      33               Hemlock Grove          ['Drama', 'Horror', 'Thriller']     7.0          0.487054\n",
      "      50                 The Lottery ['Drama', 'Science-Fiction', 'Thriller']     6.5          0.476503\n",
      "      39                Resurrection  ['Drama', 'Science-Fiction', 'Mystery']     7.1          0.404546\n",
      "      98                     Scandal                    ['Drama', 'Thriller']     7.9          0.393265\n",
      "      95               Falling Skies   ['Drama', 'Action', 'Science-Fiction']     7.6          0.388662\n",
      "      44                    Scorpion          ['Drama', 'Action', 'Thriller']     7.3          0.387713\n",
      "      52 How to Get Away with Murder           ['Drama', 'Thriller', 'Legal']     7.6          0.371795\n",
      "      90                       Haven       ['Drama', 'Crime', 'Supernatural']     8.0          0.353564\n"
     ]
    }
   ],
   "execution_count": 10
  },
  {
   "metadata": {
    "ExecuteTime": {
     "end_time": "2025-10-08T19:55:56.868230Z",
     "start_time": "2025-10-08T19:55:56.859070Z"
    }
   },
   "cell_type": "code",
   "source": [
    "# Cell 11: Test recommendations for multiple shows\n",
    "\n",
    "print(\"=\"*50)\n",
    "print(\"TESTING RECOMMENDATIONS ON VARIOUS SHOWS\")\n",
    "print(\"=\"*50)\n",
    "\n",
    "# Test on shows with different characteristics\n",
    "test_shows = [\n",
    "    (\"Breaking Bad\", \"Drama/Crime show\"),\n",
    "    (\"The Big Bang Theory\", \"Sitcom\"),\n",
    "    (\"Game of Thrones\", \"Fantasy epic\"),\n",
    "]\n",
    "\n",
    "for show_name, description in test_shows:\n",
    "    # Find show\n",
    "    show_row = df_shows[df_shows['name'].str.contains(show_name, case=False, na=False)]\n",
    "\n",
    "    if len(show_row) == 0:\n",
    "        print(f\"\\n'{show_name}' not found in dataset\")\n",
    "        continue\n",
    "\n",
    "    show_id = show_row.iloc[0]['id']\n",
    "    actual_name = show_row.iloc[0]['name']\n",
    "    genres = show_row.iloc[0]['genres']\n",
    "\n",
    "    print(f\"\\n{actual_name} ({description})\")\n",
    "    print(f\"Genres: {genres}\")\n",
    "    print(\"-\" * 70)\n",
    "\n",
    "    recs = get_recommendations(show_id, hybrid_similarities[\"Text+Genre\"], n=5)\n",
    "    for i, row in recs.iterrows():\n",
    "        print(f\"{i+1}. {row['name']} ({row['similarity_score']:.3f}) - {row['genres']}\")"
   ],
   "id": "82dc1a7951e4d956",
   "outputs": [
    {
     "name": "stdout",
     "output_type": "stream",
     "text": [
      "==================================================\n",
      "TESTING RECOMMENDATIONS ON VARIOUS SHOWS\n",
      "==================================================\n",
      "\n",
      "'Breaking Bad' not found in dataset\n",
      "\n",
      "The Big Bang Theory (Sitcom)\n",
      "Genres: ['Comedy']\n",
      "----------------------------------------------------------------------\n",
      "1. A to Z (0.442) - ['Comedy', 'Romance']\n",
      "2. Manhattan Love Story (0.405) - ['Comedy', 'Romance']\n",
      "3. New Girl (0.401) - ['Comedy', 'Romance']\n",
      "4. Californication (0.377) - ['Drama', 'Comedy']\n",
      "5. Bad Judge (0.375) - ['Comedy', 'Family']\n",
      "\n",
      "Game of Thrones (Fantasy epic)\n",
      "Genres: ['Drama', 'Adventure', 'Fantasy']\n",
      "----------------------------------------------------------------------\n",
      "1. Once Upon a Time in Wonderland (0.500) - ['Drama', 'Adventure', 'Fantasy']\n",
      "2. Intruders (0.390) - ['Drama', 'Fantasy', 'Thriller']\n",
      "3. Witches of East End (0.357) - ['Drama', 'Fantasy', 'Romance']\n",
      "4. Vikings (0.334) - ['Drama', 'Action', 'History']\n",
      "5. Lost Girl (0.333) - ['Drama', 'Fantasy', 'Horror']\n"
     ]
    }
   ],
   "execution_count": 11
  },
  {
   "metadata": {
    "ExecuteTime": {
     "end_time": "2025-10-08T19:56:10.938727Z",
     "start_time": "2025-10-08T19:56:10.933325Z"
    }
   },
   "cell_type": "code",
   "source": [
    "# Cell 12: Save similarity matrices\n",
    "\n",
    "print(\"=\"*50)\n",
    "print(\"SAVING SIMILARITY MATRICES\")\n",
    "print(\"=\"*50)\n",
    "\n",
    "# Save individual similarity matrices\n",
    "np.save(processed_dir / 'genre_similarity.npy', genre_similarity)\n",
    "print(\"✓ Saved genre similarity\")\n",
    "\n",
    "np.save(processed_dir / 'text_similarity.npy', text_similarity)\n",
    "print(\"✓ Saved text similarity\")\n",
    "\n",
    "np.save(processed_dir / 'metadata_similarity.npy', metadata_similarity)\n",
    "print(\"✓ Saved metadata similarity\")\n",
    "\n",
    "# Save best hybrid similarity (you can choose which one)\n",
    "best_hybrid = hybrid_similarities[\"Text+Genre\"]\n",
    "np.save(processed_dir / 'hybrid_similarity.npy', best_hybrid)\n",
    "print(\"✓ Saved hybrid similarity (Text+Genre)\")\n",
    "\n",
    "print(\"\\n✓ All similarity matrices saved!\")"
   ],
   "id": "1e27c0760ff11335",
   "outputs": [
    {
     "name": "stdout",
     "output_type": "stream",
     "text": [
      "==================================================\n",
      "SAVING SIMILARITY MATRICES\n",
      "==================================================\n",
      "✓ Saved genre similarity\n",
      "✓ Saved text similarity\n",
      "✓ Saved metadata similarity\n",
      "✓ Saved hybrid similarity (Text+Genre)\n",
      "\n",
      "✓ All similarity matrices saved!\n"
     ]
    }
   ],
   "execution_count": 12
  },
  {
   "metadata": {
    "ExecuteTime": {
     "end_time": "2025-10-08T19:56:14.357493Z",
     "start_time": "2025-10-08T19:56:14.354136Z"
    }
   },
   "cell_type": "code",
   "source": [
    "# Cell 13: Summary and Next Steps\n",
    "\n",
    "print(\"=\"*50)\n",
    "print(\"CONTENT SIMILARITY COMPUTATION COMPLETE\")\n",
    "print(\"=\"*50)\n",
    "\n",
    "print(f\"\\n✓ Computed similarities for {len(df_shows)} shows\")\n",
    "print(f\"✓ Tested {len(weighting_schemes)} weighting schemes\")\n",
    "print(f\"✓ Generated and validated recommendations\")\n",
    "\n",
    "print(\"\\nBest weighting scheme (subjective):\")\n",
    "print(\"  'Text+Genre' (40% genre, 50% text, 10% metadata)\")\n",
    "print(\"  - Balances thematic similarity with plot/tone matching\")\n",
    "print(\"  - Includes some network/type information\")\n",
    "\n",
    "print(\"\\nNext steps:\")\n",
    "print(\"1. Set up MLflow to track experiments\")\n",
    "print(\"2. Implement evaluation metrics\")\n",
    "print(\"3. Store recommendations in database\")\n",
    "print(\"4. Deploy as Azure Function\")"
   ],
   "id": "5dc3e2f4d9695256",
   "outputs": [
    {
     "name": "stdout",
     "output_type": "stream",
     "text": [
      "==================================================\n",
      "CONTENT SIMILARITY COMPUTATION COMPLETE\n",
      "==================================================\n",
      "\n",
      "✓ Computed similarities for 100 shows\n",
      "✓ Tested 5 weighting schemes\n",
      "✓ Generated and validated recommendations\n",
      "\n",
      "Best weighting scheme (subjective):\n",
      "  'Text+Genre' (40% genre, 50% text, 10% metadata)\n",
      "  - Balances thematic similarity with plot/tone matching\n",
      "  - Includes some network/type information\n",
      "\n",
      "Next steps:\n",
      "1. Set up MLflow to track experiments\n",
      "2. Implement evaluation metrics\n",
      "3. Store recommendations in database\n",
      "4. Deploy as Azure Function\n"
     ]
    }
   ],
   "execution_count": 13
  }
 ],
 "metadata": {
  "kernelspec": {
   "display_name": "Python 3",
   "language": "python",
   "name": "python3"
  },
  "language_info": {
   "codemirror_mode": {
    "name": "ipython",
    "version": 2
   },
   "file_extension": ".py",
   "mimetype": "text/x-python",
   "name": "python",
   "nbconvert_exporter": "python",
   "pygments_lexer": "ipython2",
   "version": "2.7.6"
  }
 },
 "nbformat": 4,
 "nbformat_minor": 5
}
